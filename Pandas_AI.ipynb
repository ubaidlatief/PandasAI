{
 "cells": [
  {
   "attachments": {},
   "cell_type": "markdown",
   "metadata": {},
   "source": [
    "# Pandas AI: Supercharging data analysis with generative AI"
   ]
  },
  {
   "attachments": {},
   "cell_type": "markdown",
   "metadata": {},
   "source": [
    "### What is Pandas?\n",
    "- Pandas is used for data manipulation and analysis tasks, making it easier to clean, filter, and transform datasets.\n",
    "- It provides powerful data structures like Series and DataFrame, enabling efficient handling of structured data.\n",
    "- Pandas simplifies data exploration and visualization, helping users gain valuable insights and make informed decisions.\n",
    "- Its integration with other Python libraries, such as NumPy and Matplotlib, makes it a fundamental tool in the data science ecosystem."
   ]
  },
  {
   "attachments": {},
   "cell_type": "markdown",
   "metadata": {},
   "source": [
    "### What is Pandas AI?\n",
    "- PandasAI extends Python's Pandas library with generative AI capabilities.\n",
    "- It complements Pandas, providing a more intuitive and human-like way to interact with data frames for efficient summarization.\n",
    "- Users can ask questions about their data and receive answers in the form of Pandas DataFrames, creating a conversational and accessible data analysis experience.\n",
    "- Pandas AI has the potential to revolutionize data analysis, unlocking valuable information from complex data."
   ]
  },
  {
   "attachments": {},
   "cell_type": "markdown",
   "metadata": {},
   "source": [
    "### Why Pandas AI?\n",
    "Pandas AI is important for several reasons:\n",
    "\n",
    "#### Efficient Data Exploration:\n",
    "Pandas AI automates data profiling and visualization tasks, enabling quick comprehension of variable characteristics and distributions.\n",
    "#### Enhanced Data Cleaning: \n",
    "Pandas AI intelligently handles null values, outliers, and inconsistent formats, ensuring data integrity and improving analysis results.\n",
    "#### Automated Feature Engineering: \n",
    "Pandas AI automates the generation of new variables capturing complex relationships and patterns, saving time and improving the accuracy of data-driven solutions.\n",
    "#### Seamless Machine Learning Integration: \n",
    "Pandas AI seamlessly integrates with popular machine learning frameworks, simplifying feature selection and enabling data visualization and insights extraction.\n",
    "#### Improved Decision Making: \n",
    "Pandas AI empowers data professionals to make informed decisions by enabling efficient exploration, automated cleaning, and accurate predictive modeling."
   ]
  },
  {
   "attachments": {},
   "cell_type": "markdown",
   "metadata": {},
   "source": [
    "## Using Pandas AI in our Project"
   ]
  },
  {
   "attachments": {},
   "cell_type": "markdown",
   "metadata": {},
   "source": [
    "#### Installing Pandas AI\n",
    "Install pandasai library using pip. Note that pandasai requires python 3.9+ version to work."
   ]
  },
  {
   "cell_type": "code",
   "execution_count": 1,
   "metadata": {},
   "outputs": [
    {
     "name": "stdout",
     "output_type": "stream",
     "text": [
      "Collecting pandasaiNote: you may need to restart the kernel to use updated packages.\n"
     ]
    },
    {
     "name": "stderr",
     "output_type": "stream",
     "text": [
      "ERROR: pip's dependency resolver does not currently take into account all the packages that are installed. This behaviour is the source of the following dependency conflicts.\n",
      "ipython-sql 0.5.0 requires sqlalchemy>=2.0, but you have sqlalchemy 1.3.9 which is incompatible.\n"
     ]
    },
    {
     "name": "stdout",
     "output_type": "stream",
     "text": [
      "\n",
      "  Downloading pandasai-0.6.7-py3-none-any.whl (38 kB)\n",
      "Collecting astor<0.9.0,>=0.8.1 (from pandasai)\n",
      "  Downloading astor-0.8.1-py2.py3-none-any.whl (27 kB)\n",
      "Collecting ipython<9.0.0,>=8.13.1 (from pandasai)\n",
      "  Downloading ipython-8.14.0-py3-none-any.whl (798 kB)\n",
      "     -------------------------------------- 798.7/798.7 kB 3.6 MB/s eta 0:00:00\n",
      "Collecting matplotlib<4.0.0,>=3.7.1 (from pandasai)\n",
      "  Downloading matplotlib-3.7.2-cp310-cp310-win_amd64.whl (7.5 MB)\n",
      "     ---------------------------------------- 7.5/7.5 MB 3.5 MB/s eta 0:00:00\n",
      "Collecting openai<0.28.0,>=0.27.5 (from pandasai)\n",
      "  Downloading openai-0.27.8-py3-none-any.whl (73 kB)\n",
      "     ---------------------------------------- 73.6/73.6 kB 4.0 MB/s eta 0:00:00\n",
      "Collecting pandas==1.5.3 (from pandasai)\n",
      "  Downloading pandas-1.5.3-cp310-cp310-win_amd64.whl (10.4 MB)\n",
      "     ---------------------------------------- 10.4/10.4 MB 3.1 MB/s eta 0:00:00\n",
      "Collecting python-dotenv<2.0.0,>=1.0.0 (from pandasai)\n",
      "  Downloading python_dotenv-1.0.0-py3-none-any.whl (19 kB)\n",
      "Requirement already satisfied: python-dateutil>=2.8.1 in c:\\users\\acer\\appdata\\local\\programs\\python\\python310\\lib\\site-packages (from pandas==1.5.3->pandasai) (2.8.2)\n",
      "Requirement already satisfied: pytz>=2020.1 in c:\\users\\acer\\appdata\\local\\programs\\python\\python310\\lib\\site-packages (from pandas==1.5.3->pandasai) (2022.7)\n",
      "Requirement already satisfied: numpy>=1.21.0 in c:\\users\\acer\\appdata\\local\\programs\\python\\python310\\lib\\site-packages (from pandas==1.5.3->pandasai) (1.23.1)\n",
      "Requirement already satisfied: backcall in c:\\users\\acer\\appdata\\local\\programs\\python\\python310\\lib\\site-packages (from ipython<9.0.0,>=8.13.1->pandasai) (0.2.0)\n",
      "Requirement already satisfied: decorator in c:\\users\\acer\\appdata\\local\\programs\\python\\python310\\lib\\site-packages (from ipython<9.0.0,>=8.13.1->pandasai) (5.1.1)\n",
      "Requirement already satisfied: jedi>=0.16 in c:\\users\\acer\\appdata\\local\\programs\\python\\python310\\lib\\site-packages (from ipython<9.0.0,>=8.13.1->pandasai) (0.18.1)\n",
      "Requirement already satisfied: matplotlib-inline in c:\\users\\acer\\appdata\\local\\programs\\python\\python310\\lib\\site-packages (from ipython<9.0.0,>=8.13.1->pandasai) (0.1.6)\n",
      "Requirement already satisfied: pickleshare in c:\\users\\acer\\appdata\\local\\programs\\python\\python310\\lib\\site-packages (from ipython<9.0.0,>=8.13.1->pandasai) (0.7.5)\n",
      "Requirement already satisfied: prompt-toolkit!=3.0.37,<3.1.0,>=3.0.30 in c:\\users\\acer\\appdata\\local\\programs\\python\\python310\\lib\\site-packages (from ipython<9.0.0,>=8.13.1->pandasai) (3.0.31)\n",
      "Requirement already satisfied: pygments>=2.4.0 in c:\\users\\acer\\appdata\\local\\programs\\python\\python310\\lib\\site-packages (from ipython<9.0.0,>=8.13.1->pandasai) (2.13.0)\n",
      "Requirement already satisfied: stack-data in c:\\users\\acer\\appdata\\local\\programs\\python\\python310\\lib\\site-packages (from ipython<9.0.0,>=8.13.1->pandasai) (0.5.1)\n",
      "Requirement already satisfied: traitlets>=5 in c:\\users\\acer\\appdata\\local\\programs\\python\\python310\\lib\\site-packages (from ipython<9.0.0,>=8.13.1->pandasai) (5.4.0)\n",
      "Requirement already satisfied: colorama in c:\\users\\acer\\appdata\\local\\programs\\python\\python310\\lib\\site-packages (from ipython<9.0.0,>=8.13.1->pandasai) (0.4.5)\n",
      "Requirement already satisfied: contourpy>=1.0.1 in c:\\users\\acer\\appdata\\local\\programs\\python\\python310\\lib\\site-packages (from matplotlib<4.0.0,>=3.7.1->pandasai) (1.0.6)\n",
      "Requirement already satisfied: cycler>=0.10 in c:\\users\\acer\\appdata\\local\\programs\\python\\python310\\lib\\site-packages (from matplotlib<4.0.0,>=3.7.1->pandasai) (0.11.0)\n",
      "Requirement already satisfied: fonttools>=4.22.0 in c:\\users\\acer\\appdata\\local\\programs\\python\\python310\\lib\\site-packages (from matplotlib<4.0.0,>=3.7.1->pandasai) (4.38.0)\n",
      "Requirement already satisfied: kiwisolver>=1.0.1 in c:\\users\\acer\\appdata\\local\\programs\\python\\python310\\lib\\site-packages (from matplotlib<4.0.0,>=3.7.1->pandasai) (1.4.4)\n",
      "Requirement already satisfied: packaging>=20.0 in c:\\users\\acer\\appdata\\local\\programs\\python\\python310\\lib\\site-packages (from matplotlib<4.0.0,>=3.7.1->pandasai) (23.1)\n",
      "Requirement already satisfied: pillow>=6.2.0 in c:\\users\\acer\\appdata\\local\\programs\\python\\python310\\lib\\site-packages (from matplotlib<4.0.0,>=3.7.1->pandasai) (9.3.0)\n",
      "Requirement already satisfied: pyparsing<3.1,>=2.3.1 in c:\\users\\acer\\appdata\\local\\programs\\python\\python310\\lib\\site-packages (from matplotlib<4.0.0,>=3.7.1->pandasai) (3.0.9)\n",
      "Requirement already satisfied: requests>=2.20 in c:\\users\\acer\\appdata\\local\\programs\\python\\python310\\lib\\site-packages (from openai<0.28.0,>=0.27.5->pandasai) (2.26.0)\n",
      "Requirement already satisfied: tqdm in c:\\users\\acer\\appdata\\local\\programs\\python\\python310\\lib\\site-packages (from openai<0.28.0,>=0.27.5->pandasai) (4.65.0)\n",
      "Collecting aiohttp (from openai<0.28.0,>=0.27.5->pandasai)\n",
      "  Downloading aiohttp-3.8.4-cp310-cp310-win_amd64.whl (319 kB)\n",
      "     -------------------------------------- 319.8/319.8 kB 2.2 MB/s eta 0:00:00\n",
      "Requirement already satisfied: parso<0.9.0,>=0.8.0 in c:\\users\\acer\\appdata\\local\\programs\\python\\python310\\lib\\site-packages (from jedi>=0.16->ipython<9.0.0,>=8.13.1->pandasai) (0.8.3)\n",
      "Requirement already satisfied: wcwidth in c:\\users\\acer\\appdata\\local\\programs\\python\\python310\\lib\\site-packages (from prompt-toolkit!=3.0.37,<3.1.0,>=3.0.30->ipython<9.0.0,>=8.13.1->pandasai) (0.2.5)\n",
      "Requirement already satisfied: six>=1.5 in c:\\users\\acer\\appdata\\local\\programs\\python\\python310\\lib\\site-packages (from python-dateutil>=2.8.1->pandas==1.5.3->pandasai) (1.16.0)\n",
      "Requirement already satisfied: urllib3<1.27,>=1.21.1 in c:\\users\\acer\\appdata\\local\\programs\\python\\python310\\lib\\site-packages (from requests>=2.20->openai<0.28.0,>=0.27.5->pandasai) (1.26.16)\n",
      "Requirement already satisfied: certifi>=2017.4.17 in c:\\users\\acer\\appdata\\local\\programs\\python\\python310\\lib\\site-packages (from requests>=2.20->openai<0.28.0,>=0.27.5->pandasai) (2023.5.7)\n",
      "Requirement already satisfied: charset-normalizer~=2.0.0 in c:\\users\\acer\\appdata\\local\\programs\\python\\python310\\lib\\site-packages (from requests>=2.20->openai<0.28.0,>=0.27.5->pandasai) (2.0.12)\n",
      "Requirement already satisfied: idna<4,>=2.5 in c:\\users\\acer\\appdata\\local\\programs\\python\\python310\\lib\\site-packages (from requests>=2.20->openai<0.28.0,>=0.27.5->pandasai) (3.4)\n",
      "Requirement already satisfied: attrs>=17.3.0 in c:\\users\\acer\\appdata\\local\\programs\\python\\python310\\lib\\site-packages (from aiohttp->openai<0.28.0,>=0.27.5->pandasai) (22.1.0)\n",
      "Collecting multidict<7.0,>=4.5 (from aiohttp->openai<0.28.0,>=0.27.5->pandasai)\n",
      "  Downloading multidict-6.0.4-cp310-cp310-win_amd64.whl (28 kB)\n",
      "Collecting async-timeout<5.0,>=4.0.0a3 (from aiohttp->openai<0.28.0,>=0.27.5->pandasai)\n",
      "  Downloading async_timeout-4.0.2-py3-none-any.whl (5.8 kB)\n",
      "Collecting yarl<2.0,>=1.0 (from aiohttp->openai<0.28.0,>=0.27.5->pandasai)\n",
      "  Downloading yarl-1.9.2-cp310-cp310-win_amd64.whl (61 kB)\n",
      "     ---------------------------------------- 61.0/61.0 kB 3.4 MB/s eta 0:00:00\n",
      "Collecting frozenlist>=1.1.1 (from aiohttp->openai<0.28.0,>=0.27.5->pandasai)\n",
      "  Downloading frozenlist-1.3.3-cp310-cp310-win_amd64.whl (33 kB)\n",
      "Collecting aiosignal>=1.1.2 (from aiohttp->openai<0.28.0,>=0.27.5->pandasai)\n",
      "  Downloading aiosignal-1.3.1-py3-none-any.whl (7.6 kB)\n",
      "Requirement already satisfied: executing in c:\\users\\acer\\appdata\\local\\programs\\python\\python310\\lib\\site-packages (from stack-data->ipython<9.0.0,>=8.13.1->pandasai) (1.1.1)\n",
      "Requirement already satisfied: asttokens in c:\\users\\acer\\appdata\\local\\programs\\python\\python310\\lib\\site-packages (from stack-data->ipython<9.0.0,>=8.13.1->pandasai) (2.0.8)\n",
      "Requirement already satisfied: pure-eval in c:\\users\\acer\\appdata\\local\\programs\\python\\python310\\lib\\site-packages (from stack-data->ipython<9.0.0,>=8.13.1->pandasai) (0.2.2)\n",
      "Installing collected packages: python-dotenv, multidict, frozenlist, async-timeout, astor, yarl, pandas, matplotlib, aiosignal, ipython, aiohttp, openai, pandasai\n",
      "  Attempting uninstall: pandas\n",
      "    Found existing installation: pandas 1.3.5\n",
      "    Uninstalling pandas-1.3.5:\n",
      "      Successfully uninstalled pandas-1.3.5\n",
      "  Attempting uninstall: matplotlib\n",
      "    Found existing installation: matplotlib 3.6.2\n",
      "    Uninstalling matplotlib-3.6.2:\n",
      "      Successfully uninstalled matplotlib-3.6.2\n",
      "  Attempting uninstall: ipython\n",
      "    Found existing installation: ipython 8.5.0\n",
      "    Uninstalling ipython-8.5.0:\n",
      "      Successfully uninstalled ipython-8.5.0\n",
      "Successfully installed aiohttp-3.8.4 aiosignal-1.3.1 astor-0.8.1 async-timeout-4.0.2 frozenlist-1.3.3 ipython-8.14.0 matplotlib-3.7.2 multidict-6.0.4 openai-0.27.8 pandas-1.5.3 pandasai-0.6.7 python-dotenv-1.0.0 yarl-1.9.2\n"
     ]
    }
   ],
   "source": [
    "%pip install pandasai"
   ]
  },
  {
   "attachments": {},
   "cell_type": "markdown",
   "metadata": {},
   "source": [
    "## Creating an API Key/Token"
   ]
  },
  {
   "attachments": {},
   "cell_type": "markdown",
   "metadata": {},
   "source": [
    "### Importing pandasai library in python"
   ]
  },
  {
   "cell_type": "code",
   "execution_count": 1,
   "metadata": {},
   "outputs": [],
   "source": [
    "import pandas as pd\n",
    "import numpy as np\n",
    "from pandasai import PandasAI\n",
    "from pandasai.llm.openai import OpenAI"
   ]
  },
  {
   "attachments": {},
   "cell_type": "markdown",
   "metadata": {},
   "source": [
    "### 2. Add data to an empty DataFrame\n",
    "- Make a dataframe using a dictionary with dummy data.\n",
    "- We can also import a dataframe into our jupyter notebook from our local memory or via url."
   ]
  },
  {
   "cell_type": "code",
   "execution_count": 21,
   "metadata": {},
   "outputs": [
    {
     "data": {
      "text/html": [
       "<div>\n",
       "<style scoped>\n",
       "    .dataframe tbody tr th:only-of-type {\n",
       "        vertical-align: middle;\n",
       "    }\n",
       "\n",
       "    .dataframe tbody tr th {\n",
       "        vertical-align: top;\n",
       "    }\n",
       "\n",
       "    .dataframe thead th {\n",
       "        text-align: right;\n",
       "    }\n",
       "</style>\n",
       "<table border=\"1\" class=\"dataframe\">\n",
       "  <thead>\n",
       "    <tr style=\"text-align: right;\">\n",
       "      <th></th>\n",
       "      <th>country</th>\n",
       "      <th>annual tax collected</th>\n",
       "      <th>happiness_index</th>\n",
       "    </tr>\n",
       "  </thead>\n",
       "  <tbody>\n",
       "    <tr>\n",
       "      <th>0</th>\n",
       "      <td>Delhi</td>\n",
       "      <td>19294482072</td>\n",
       "      <td>9.94</td>\n",
       "    </tr>\n",
       "    <tr>\n",
       "      <th>1</th>\n",
       "      <td>Mumbai</td>\n",
       "      <td>28916155672</td>\n",
       "      <td>7.16</td>\n",
       "    </tr>\n",
       "    <tr>\n",
       "      <th>2</th>\n",
       "      <td>Kolkata</td>\n",
       "      <td>24112550372</td>\n",
       "      <td>6.35</td>\n",
       "    </tr>\n",
       "    <tr>\n",
       "      <th>3</th>\n",
       "      <td>Chennai</td>\n",
       "      <td>34358173362</td>\n",
       "      <td>8.07</td>\n",
       "    </tr>\n",
       "    <tr>\n",
       "      <th>4</th>\n",
       "      <td>Jaipur</td>\n",
       "      <td>17454337886</td>\n",
       "      <td>6.98</td>\n",
       "    </tr>\n",
       "  </tbody>\n",
       "</table>\n",
       "</div>"
      ],
      "text/plain": [
       "   country  annual tax collected  happiness_index\n",
       "0    Delhi           19294482072             9.94\n",
       "1   Mumbai           28916155672             7.16\n",
       "2  Kolkata           24112550372             6.35\n",
       "3  Chennai           34358173362             8.07\n",
       "4   Jaipur           17454337886             6.98"
      ]
     },
     "execution_count": 21,
     "metadata": {},
     "output_type": "execute_result"
    }
   ],
   "source": [
    "data_dict = {\n",
    "    \"country\": [\n",
    "        \"Delhi\",\n",
    "        \"Mumbai\",\n",
    "        \"Kolkata\",\n",
    "        \"Chennai\",\n",
    "        \"Jaipur\",\n",
    "        \"Lucknow\",\n",
    "        \"Pune\",\n",
    "        \"Bengaluru\",\n",
    "        \"Amritsar\",\n",
    "        \"Agra\",\n",
    "    ],\n",
    "    \"annual tax collected\": [\n",
    "        19294482072,\n",
    "        28916155672,\n",
    "        24112550372,\n",
    "        34358173362,\n",
    "        17454337886,\n",
    "        11812051350,\n",
    "        16074023894,\n",
    "        14909678554,\n",
    "        43807565410,\n",
    "        146318441864,\n",
    "    ],\n",
    "    \"happiness_index\": [9.94, 7.16, 6.35, 8.07, 6.98, 6.1, 4.23, 8.22, 6.87, 3.36],\n",
    "}\n",
    "  \n",
    "df = pd.DataFrame(data_dict)\n",
    "df.head()"
   ]
  },
  {
   "cell_type": "code",
   "execution_count": 22,
   "metadata": {},
   "outputs": [
    {
     "data": {
      "text/html": [
       "<div>\n",
       "<style scoped>\n",
       "    .dataframe tbody tr th:only-of-type {\n",
       "        vertical-align: middle;\n",
       "    }\n",
       "\n",
       "    .dataframe tbody tr th {\n",
       "        vertical-align: top;\n",
       "    }\n",
       "\n",
       "    .dataframe thead th {\n",
       "        text-align: right;\n",
       "    }\n",
       "</style>\n",
       "<table border=\"1\" class=\"dataframe\">\n",
       "  <thead>\n",
       "    <tr style=\"text-align: right;\">\n",
       "      <th></th>\n",
       "      <th>country</th>\n",
       "      <th>annual tax collected</th>\n",
       "      <th>happiness_index</th>\n",
       "    </tr>\n",
       "  </thead>\n",
       "  <tbody>\n",
       "    <tr>\n",
       "      <th>5</th>\n",
       "      <td>Lucknow</td>\n",
       "      <td>11812051350</td>\n",
       "      <td>6.10</td>\n",
       "    </tr>\n",
       "    <tr>\n",
       "      <th>6</th>\n",
       "      <td>Pune</td>\n",
       "      <td>16074023894</td>\n",
       "      <td>4.23</td>\n",
       "    </tr>\n",
       "    <tr>\n",
       "      <th>7</th>\n",
       "      <td>Bengaluru</td>\n",
       "      <td>14909678554</td>\n",
       "      <td>8.22</td>\n",
       "    </tr>\n",
       "    <tr>\n",
       "      <th>8</th>\n",
       "      <td>Amritsar</td>\n",
       "      <td>43807565410</td>\n",
       "      <td>6.87</td>\n",
       "    </tr>\n",
       "    <tr>\n",
       "      <th>9</th>\n",
       "      <td>Agra</td>\n",
       "      <td>146318441864</td>\n",
       "      <td>3.36</td>\n",
       "    </tr>\n",
       "  </tbody>\n",
       "</table>\n",
       "</div>"
      ],
      "text/plain": [
       "     country  annual tax collected  happiness_index\n",
       "5    Lucknow           11812051350             6.10\n",
       "6       Pune           16074023894             4.23\n",
       "7  Bengaluru           14909678554             8.22\n",
       "8   Amritsar           43807565410             6.87\n",
       "9       Agra          146318441864             3.36"
      ]
     },
     "execution_count": 22,
     "metadata": {},
     "output_type": "execute_result"
    }
   ],
   "source": [
    "df.tail()"
   ]
  },
  {
   "attachments": {},
   "cell_type": "markdown",
   "metadata": {},
   "source": [
    "### 3. Initialize an instance of pandasai"
   ]
  },
  {
   "attachments": {},
   "cell_type": "markdown",
   "metadata": {},
   "source": [
    "The first step would be make an API Key that allows you to connect your pandasai to OpenAI.\n",
    "An API key is like a special password that developers use to access certain online services or data in a secure way. It ensures that only authorized users can use the API and its features."
   ]
  },
  {
   "cell_type": "code",
   "execution_count": null,
   "metadata": {},
   "outputs": [
    {
     "data": {
      "image/png": "[encoded data removed]",
      "text/plain": [
       "<IPython.core.display.Image object>"
      ]
     },
     "metadata": {},
     "output_type": "display_data"
    }
   ],
   "source": [
    "from IPython.display import Image\n",
    "\n",
    "image_path = 'C:/Users/ACER/OneDrive/Pictures/Screenshots/API_KEY.png'\n",
    "Image(filename=image_path)"
   ]
  },
  {
   "cell_type": "code",
   "execution_count": 12,
   "metadata": {},
   "outputs": [],
   "source": [
    "llm = OpenAI(api_token= 'YOUR_API_Key')\n",
    "pandas_ai = PandasAI(llm, conversational= True)"
   ]
  },
  {
   "attachments": {},
   "cell_type": "markdown",
   "metadata": {},
   "source": [
    "In the above code:\n",
    "- We Initialize an instance <code>'llm'</code> of OpenAI. We connect to OpenAI using our API KEY that we have to create in OpenAI.\n",
    "- We initialize an instance of pandasai while connecting it to the OpenAI by passing <code>'llm'</code> instance into our code.\n",
    "- <code> conversational = False </code> indicates that the \"PandasAI\" library is not being used in a conversational mode, but rather operates in a more traditional data analysis mode.\n",
    "- <code> conversational = True </code> means that you can now use the \"PandasAI\" library to interact with data in a more natural and conversational manner. The GPT-3 language model from OpenAI enables the \"PandasAI\" library to understand and respond to user queries in a human-like way, making it easier and more intuitive for users to work with data."
   ]
  },
  {
   "attachments": {},
   "cell_type": "markdown",
   "metadata": {},
   "source": [
    "### Prompt 1: Finding index of a row using value of a column"
   ]
  },
  {
   "cell_type": "code",
   "execution_count": null,
   "metadata": {},
   "outputs": [],
   "source": [
    "response = pandas_ai(df, \"What is the index of Pune?\")\n",
    "print(response)"
   ]
  },
  {
   "attachments": {},
   "cell_type": "markdown",
   "metadata": {},
   "source": [
    "Output:\n",
    "<code> The index of Pune is 6 </code>"
   ]
  },
  {
   "attachments": {},
   "cell_type": "markdown",
   "metadata": {},
   "source": [
    "### Prompt 2: Using describe() function of DataFrame"
   ]
  },
  {
   "cell_type": "code",
   "execution_count": null,
   "metadata": {},
   "outputs": [],
   "source": [
    "response = pandas_ai(df, \"Show the description of data in tabular form\")\n",
    "print(response)"
   ]
  },
  {
   "attachments": {},
   "cell_type": "markdown",
   "metadata": {},
   "source": [
    "### Importat Note: Since the code cells aren't executed, the results had to be displayed in markdown cells. Wherever you find the output nonsensical (like this output), please double click on the text to reveal the desired output.\n",
    "\n",
    "Output:\n",
    "\n",
    "        annual tax collected  happiness_index\n",
    "count          1.000000e+01        10.000000\n",
    "mean           3.570575e+10         6.728000\n",
    "std            4.010314e+10         1.907149\n",
    "min            1.181205e+10         3.360000\n",
    "25%            1.641910e+10         6.162500\n",
    "50%            2.170352e+10         6.925000\n",
    "75%            3.299767e+10         7.842500\n",
    "max            1.463184e+11         9.940000"
   ]
  },
  {
   "attachments": {},
   "cell_type": "markdown",
   "metadata": {},
   "source": [
    "### Prompt 3: Using the info() function of DataFrame\n",
    "We use the `info()` function of a pandas DataFrame for the following:\n",
    "\n",
    "1. Data inspection\n",
    "2. Identifying data types\n",
    "3. Counting non-null values\n",
    "4. Memory usage optimization\n",
    "5. Quick data quality check"
   ]
  },
  {
   "cell_type": "code",
   "execution_count": null,
   "metadata": {},
   "outputs": [],
   "source": [
    "response = pandas_ai(df, \"Show the info of data in tabular form\")\n",
    "print(response)"
   ]
  },
  {
   "attachments": {},
   "cell_type": "markdown",
   "metadata": {},
   "source": [
    "Output:\n",
    "\n",
    "<class 'pandas.core.frame.DataFrame'>\n",
    "Index: 11 entries, 0 to 10\n",
    "Data columns (total 3 columns):\n",
    " #   Column                Non-Null Count  Dtype  \n",
    "---  ------                --------------  -----  \n",
    " 0   Country               11 non-null     object \n",
    " 1   annual tax collected  11 non-null     float64\n",
    " 2   happiness_index       11 non-null     float64\n",
    "dtypes: float64(2), object(1)\n",
    "memory usage: 652.0+ bytes"
   ]
  },
  {
   "attachments": {},
   "cell_type": "markdown",
   "metadata": {},
   "source": [
    "Prompt 4: Using shape attribute of dataframe\n",
    "\n",
    "The shape() is a simple and quick way to understand the size of your DataFrame, it displays the number of rows and columns in a dataframe."
   ]
  },
  {
   "cell_type": "code",
   "execution_count": null,
   "metadata": {},
   "outputs": [],
   "source": [
    "response = pandas_ai(df, \"What is the shape of data?\")\n",
    "print(response)"
   ]
  },
  {
   "attachments": {},
   "cell_type": "markdown",
   "metadata": {},
   "source": [
    "Output:\n",
    "\n",
    "The shape of the data is (11, 3)"
   ]
  },
  {
   "attachments": {},
   "cell_type": "markdown",
   "metadata": {},
   "source": [
    "Prompt 5: Finding any duplicate rows"
   ]
  },
  {
   "cell_type": "code",
   "execution_count": null,
   "metadata": {},
   "outputs": [],
   "source": [
    "response = pandas_ai(df, \"Are there any duplicate rows?\")\n",
    "print(response)"
   ]
  },
  {
   "attachments": {},
   "cell_type": "markdown",
   "metadata": {},
   "source": [
    "Output:\n",
    "\n",
    "There are no duplicate rows."
   ]
  },
  {
   "attachments": {},
   "cell_type": "markdown",
   "metadata": {},
   "source": [
    "### Prompt 6: Add a row at the end of the dataframe\n",
    "Here we are adding a row at the end of the dataframe with null values in order to perform some missing-value functions."
   ]
  },
  {
   "cell_type": "code",
   "execution_count": null,
   "metadata": {},
   "outputs": [],
   "source": [
    "response = pandas_ai(df, \"Add the list: ['A',None,None] at the end of the dataframe as last row keep inplace=True\")\n",
    "print(response)"
   ]
  },
  {
   "attachments": {},
   "cell_type": "markdown",
   "metadata": {},
   "source": [
    "Output:\n",
    "\n",
    "      Country  annual tax collected  happiness_index\n",
    "0       Delhi          1.929448e+10             9.94\n",
    "1      Mumbai          2.891616e+10             7.16\n",
    "2     Kolkata          2.411255e+10             6.35\n",
    "3     Chennai          3.435817e+10             8.07\n",
    "4      Jaipur          1.745434e+10             6.98\n",
    "5     Lucknow          1.181205e+10             6.10\n",
    "6        Pune          1.607402e+10             4.23\n",
    "7   Bengaluru          1.490968e+10             8.22\n",
    "8    Amritsar          4.380757e+10             6.87\n",
    "9        Agra          1.463184e+11             3.36\n",
    "10          A                   NaN              NaN"
   ]
  },
  {
   "attachments": {},
   "cell_type": "markdown",
   "metadata": {},
   "source": [
    "### Prompt 7: Replace the missing values\n",
    "Now here we are replacing the missing values in the last row by prompting the pandasai with the following code and also displaying the changes madde to the last row in the end."
   ]
  },
  {
   "cell_type": "code",
   "execution_count": null,
   "metadata": {},
   "outputs": [],
   "source": [
    "response = pandas_ai(df, '''Fill the NULL values in dataframe with 0 keep inplace=True \n",
    "and the print the last row of dataframe''')\n",
    "print(response)"
   ]
  },
  {
   "attachments": {},
   "cell_type": "markdown",
   "metadata": {},
   "source": [
    "Output:\n",
    "\n",
    "   Country  annual tax collected  happiness_index\n",
    "10       A                   0.0              0.0"
   ]
  },
  {
   "attachments": {},
   "cell_type": "markdown",
   "metadata": {},
   "source": [
    "Prompt 8: Calculating mean of a column"
   ]
  },
  {
   "cell_type": "code",
   "execution_count": null,
   "metadata": {},
   "outputs": [],
   "source": [
    "response = pandas_ai(df, \"What is the mean of annual tax collected\")\n",
    "print(response)"
   ]
  },
  {
   "attachments": {},
   "cell_type": "markdown",
   "metadata": {},
   "source": [
    "Output:\n",
    "\n",
    "The mean of the annual tax colected is 32459769130.545456"
   ]
  },
  {
   "attachments": {},
   "cell_type": "markdown",
   "metadata": {},
   "source": [
    "Prompt 9: Dataframe Slicing:\n",
    "\n",
    "DataFrame slicing in pandas allows you to extract specific rows and/or columns from a DataFrame using labels or integer positions. Slicing can be performed by specifying rows and columns together or individually."
   ]
  },
  {
   "cell_type": "code",
   "execution_count": null,
   "metadata": {},
   "outputs": [],
   "source": [
    "response = pandas_ai(df, \"Show first 3 rows of columns 'Country' and 'happiness index'\")\n",
    "print(response)"
   ]
  },
  {
   "attachments": {},
   "cell_type": "markdown",
   "metadata": {},
   "source": [
    "Output:\n",
    "\n",
    "   Country  happiness_index\n",
    "0    Delhi             9.94\n",
    "1   Mumbai             7.16\n",
    "2  Kolkata             6.35"
   ]
  },
  {
   "attachments": {},
   "cell_type": "markdown",
   "metadata": {},
   "source": [
    "Prompt 10: Plotting a box plot for a continuous column"
   ]
  },
  {
   "cell_type": "code",
   "execution_count": null,
   "metadata": {},
   "outputs": [],
   "source": [
    "response = pandas_ai(df, \"Plot a box plot for the column 'happiness index'\")\n",
    "print(response)"
   ]
  },
  {
   "cell_type": "code",
   "execution_count": 23,
   "metadata": {},
   "outputs": [
    {
     "data": {
      "image/png": "[encoded data removed]",
      "text/plain": [
       "<IPython.core.display.Image object>"
      ]
     },
     "execution_count": 23,
     "metadata": {},
     "output_type": "execute_result"
    }
   ],
   "source": [
    "image_path = r'C:\\Users\\ACER\\OneDrive\\Pictures\\Screenshots\\Box_plot.png'\n",
    "Image(filename = image_path)"
   ]
  },
  {
   "attachments": {},
   "cell_type": "markdown",
   "metadata": {},
   "source": [
    "After plotting the Box Plot of our dataframe, we can see that there is an outlier at the bottom-center of the plot.\n",
    "\n",
    "In a box plot, an outlier is a data point that is significantly different from the rest of the data in a dataset. \n",
    "\n",
    "In order to find out which row is that outlier, we will prompt the pandasai following."
   ]
  },
  {
   "attachments": {},
   "cell_type": "markdown",
   "metadata": {},
   "source": [
    "Prompt 11: Find outliers in a column"
   ]
  },
  {
   "cell_type": "code",
   "execution_count": null,
   "metadata": {},
   "outputs": [],
   "source": [
    "response = pandas_ai(df, \"Show the data of the outlier value in the columns 'happiness index'\")\n",
    "print(response)"
   ]
  },
  {
   "attachments": {},
   "cell_type": "markdown",
   "metadata": {},
   "source": [
    "Output:\n",
    "\n",
    "  Country  annual tax collected  happiness_index\n",
    "0   Delhi          1.929448e+10             9.94"
   ]
  },
  {
   "attachments": {},
   "cell_type": "markdown",
   "metadata": {},
   "source": [
    "Prompt 12: Plot a scatter plot between 2 columns"
   ]
  },
  {
   "cell_type": "code",
   "execution_count": null,
   "metadata": {},
   "outputs": [],
   "source": [
    "response = pandas_ai(df, \"Plot a scatter plot for the columns'annual tax collected' and 'happiness index'\")\n",
    "print(response)"
   ]
  },
  {
   "attachments": {},
   "cell_type": "markdown",
   "metadata": {},
   "source": [
    "Output:"
   ]
  },
  {
   "cell_type": "code",
   "execution_count": 33,
   "metadata": {},
   "outputs": [
    {
     "data": {
      "image/png": "[encoded data removed]",
      "text/plain": [
       "<IPython.core.display.Image object>"
      ]
     },
     "execution_count": 33,
     "metadata": {},
     "output_type": "execute_result"
    }
   ],
   "source": [
    "path = r'C:\\Users\\ACER\\OneDrive\\Pictures\\Screenshots\\Scatter_plot.png'\n",
    "Image(filename = path)"
   ]
  },
  {
   "attachments": {},
   "cell_type": "markdown",
   "metadata": {},
   "source": [
    "Prompt 13: Saving DataFrame as a CSV file and JSON"
   ]
  },
  {
   "cell_type": "code",
   "execution_count": null,
   "metadata": {},
   "outputs": [],
   "source": [
    "# to save the dataframe as a CSV file\n",
    "response = pandas_ai(df, \"Save the dataframe to 'pandasai.csv'\")\n",
    "# to save the dataframe as a JSON file\n",
    "response = pandas_ai(df, \"Save the dataframe to 'pandasai.json'\")"
   ]
  },
  {
   "attachments": {},
   "cell_type": "markdown",
   "metadata": {},
   "source": [
    "These lines of code will save your DataFrame as a CSV file and JSON file."
   ]
  },
  {
   "attachments": {},
   "cell_type": "markdown",
   "metadata": {},
   "source": [
    "### Frequently Asked Questions (FAQs)\n",
    "### 1. Is Pandas AI replacing Pandas ?\n",
    "\n",
    "No, Pandas AI is not meant to replace Pandas. Though Pandas AI can easily perform simple tasks, it still faces difficulty performing some complex tasks like saving the dataframe, making a correlation matrix and many more. Pandas AI is best for quick analysis, data cleaning and data manipulation but when we have to perform some complex functions like join, read a file, or create a correlation matrix we should prefer Pandas. Pandas AI is just an extension of Pandas, for now it cannot replace Pandas.\n",
    "\n",
    "### 2. When to use Pandas AI ?\n",
    "\n",
    "For simple tasks one could consider using Pandas AI, here you won’t have to remember any syntax. All you have to do is design a very descriptive prompt and rest will be done by Open AI’s LLM. But if you want to perform some complex tasks, you should prefer using Pandas.\n",
    "\n",
    "### 3. How does Pandas AI work in the backend?\n",
    "\n",
    "Pandas AI takes in the dataframe and your query as input and passes it to a collection of OpenAI’s LLM’s. Pandas AI uses ChatGPT’s API in the backend to generate the code and executes it. The output after execution is returned to you.\n",
    "\n",
    "### 4. Can PandasAI work without OpenAI’s API?\n",
    "\n",
    "Yes, other than ChatGPT you can also use Google’s PaLm model, Open Assistant LLM and StarCoder LLM for code generation.\n",
    "\n",
    "### 5. Which to use Pandas or PandasAI for Exploratory Data Analysis?\n",
    "\n",
    "You can first try using PandasAI to check if the data is good to perform an in depth analysis, then you can perform an in-depth analysis using Pandas and other libraries.\n",
    "\n",
    "### 6. Can PandasAI use numpy attributes or functions?\n",
    "\n",
    "No, it does not have the ability to use numpy functions. All computations are performed either by using Pandas or in-built python functions in the backend."
   ]
  },
  {
   "attachments": {},
   "cell_type": "markdown",
   "metadata": {},
   "source": [
    "Thank You! \n",
    "Happy coding and learning!"
   ]
  }
 ],
 "metadata": {
  "kernelspec": {
   "display_name": "Python 3",
   "language": "python",
   "name": "python3"
  },
  "language_info": {
   "codemirror_mode": {
    "name": "ipython",
    "version": 3
   },
   "file_extension": ".py",
   "mimetype": "text/x-python",
   "name": "python",
   "nbconvert_exporter": "python",
   "pygments_lexer": "ipython3",
   "version": "3.10.5"
  },
  "orig_nbformat": 4
 },
 "nbformat": 4,
 "nbformat_minor": 2
}
